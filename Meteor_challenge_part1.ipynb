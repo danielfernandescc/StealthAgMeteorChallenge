{
 "cells": [
  {
   "cell_type": "code",
   "execution_count": null,
   "id": "8fc9af17-31cd-4d41-bb35-b76ea25c398d",
   "metadata": {},
   "outputs": [],
   "source": []
  },
  {
   "cell_type": "code",
   "execution_count": 9,
   "id": "1a858e7c-ee26-4d0c-8a75-79384efe1f95",
   "metadata": {},
   "outputs": [
    {
     "name": "stdout",
     "output_type": "stream",
     "text": [
      "RESULTS OF DIGITAL IMAGE PROCESSING:\n",
      "Stars in the image: 315\n",
      "Meteors in the image: 328\n",
      "Meteors falling in water in the image: 105\n"
     ]
    }
   ],
   "source": [
    "#Importing LIB PIL useful for digital image processing\n",
    "from PIL import Image, ImageFilter\n",
    "\n",
    "#function for counting meteor, stars and FallWater and to get the result\n",
    "def accountStarsMeteors(img, resultImg): \n",
    "    # Variables to store a count starting with zero.\n",
    "    meteorsCounter = 0 \n",
    "    starsCounter = 0\n",
    "    meteorsFallWaterCounter = 0\n",
    "\n",
    "    waterAxisX = [] \n",
    "    \n",
    "    # Traversing the image as a matrix and findign for pixels that have \n",
    "    for i in range(0, img.width): \n",
    "        for j in range(0, img.height):\n",
    "            r,g,b = resultImg.getpixel((i,j)) \n",
    "\n",
    "            if ((r == 0) and (g == 0) and (b== 255)):\n",
    "                waterAxisX.append(i)\n",
    "\n",
    "    for i in range(0, img.width):\n",
    "        for j in range(0, img.height):\n",
    "            r,g,b = resultImg.getpixel((i,j))\n",
    "            # testing img.putpixel((i,j), (2,119,189)) # Cor Background\n",
    "            if ((r == 255) and (g == 255) and (b==255)):\n",
    "                starsCounter += 1\n",
    "            if ((r == 255) and (g == 0) and (b==0)):\n",
    "                meteorsCounter +=1\n",
    "                if(i in waterAxisX):\n",
    "                    meteorsFallWaterCounter += 1\n",
    "    # Count printing\n",
    "    print('RESULTS OF DIGITAL IMAGE PROCESSING:')            \n",
    "    print(f'Stars in the image: {starsCounter}')\n",
    "    print(f'Meteors in the image: {meteorsCounter}')\n",
    "    print(f'Meteors falling in water in the image: {meteorsFallWaterCounter}')\n",
    "#main function \n",
    "if __name__ == '__main__':\n",
    "    #opening image and converting to RGB\n",
    "    img = Image.open('meteor_challenge_01.png') \n",
    "    resultImg = img.convert('RGB')  \n",
    "    #Calling function to manipulate image and to get the result for the callenge\n",
    "    accountStarsMeteors(img, resultImg)"
   ]
  },
  {
   "cell_type": "code",
   "execution_count": null,
   "id": "810080e5-0c3a-4fe1-a597-581ea1b0f43a",
   "metadata": {},
   "outputs": [],
   "source": []
  }
 ],
 "metadata": {
  "kernelspec": {
   "display_name": "Python 3",
   "language": "python",
   "name": "python3"
  },
  "language_info": {
   "codemirror_mode": {
    "name": "ipython",
    "version": 3
   },
   "file_extension": ".py",
   "mimetype": "text/x-python",
   "name": "python",
   "nbconvert_exporter": "python",
   "pygments_lexer": "ipython3",
   "version": "3.6.9"
  }
 },
 "nbformat": 4,
 "nbformat_minor": 5
}
